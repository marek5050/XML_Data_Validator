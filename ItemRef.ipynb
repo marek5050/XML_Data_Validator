{
 "cells": [
  {
   "cell_type": "code",
   "execution_count": 8,
   "metadata": {
    "collapsed": true
   },
   "outputs": [],
   "source": [
    "import unittest"
   ]
  },
  {
   "cell_type": "markdown",
   "metadata": {
    "collapsed": false
   },
   "source": [
    "##GTIN(14) to ItemRefAndIndicator\n",
    "[EPC Tag Standards pg 35](https://www.gs1.org/sites/default/files/docs/epc/TDS_1_9_Standard.pdf)"
   ]
  },
  {
   "cell_type": "code",
   "execution_count": 53,
   "metadata": {
    "collapsed": false
   },
   "outputs": [
    {
     "data": {
      "text/plain": [
       "('0715756', '020002')"
      ]
     },
     "execution_count": 53,
     "metadata": {},
     "output_type": "execute_result"
    }
   ],
   "source": [
    "gtin=\"00715756200023\"\n",
    "def itemRefandIndicator(gtin,compprefix=7):\n",
    "    Indicator = gtin[0]\n",
    "    CompanyPrefix = gtin[1:1+compprefix]\n",
    "    ItemRef = gtin[8:8+5]\n",
    "#     print(\"GTIN: \"+ gtin)\n",
    "#     print(\"Indicator: \"+Indicator)\n",
    "#     print(\"CompanyPrefix: \" + CompanyPrefix)\n",
    "#     print(\"Item: \" + ItemRef)\n",
    "    ItemRefAndIndicator = Indicator+ItemRef\n",
    "#     print(\"ItemRefAndIndicator: \" + ItemRefAndIndicator)\n",
    "    return (CompanyPrefix,ItemRefAndIndicator)\n",
    "\n",
    "itemRefandIndicator(gtin)"
   ]
  },
  {
   "cell_type": "markdown",
   "metadata": {},
   "source": [
    "##GTIN(12,13) to GTIN(14)\n",
    "[EPC Tag Standards pg 37](https://www.gs1.org/sites/default/files/docs/epc/TDS_1_9_Standard.pdf)  \n",
    "To find the EPC URI corresponding to the combination of a GTIN-12 or GTIN-13 and a serial number, first convert the GTIN-12 or GTIN-13 to a 14-digit number by adding two or one leading zero characters, respectively, as shown in [GS1GS14.0] Section 3.3.2.   "
   ]
  },
  {
   "cell_type": "code",
   "execution_count": 3,
   "metadata": {
    "collapsed": false
   },
   "outputs": [
    {
     "name": "stdout",
     "output_type": "stream",
     "text": [
      "GTIN(12,13): 715756200023\n",
      "GTIN(14):      00715756200023\n"
     ]
    }
   ],
   "source": [
    "gtin_old = \"715756200023\"\n",
    "gtin_new = \"\"\n",
    "if (len(gtin_old)==12):\n",
    "    gtin_new = \"00\"+gtin_old\n",
    "elif (len(gtin_old)==13):\n",
    "    gtin_new = \"0\" + gtin_old\n",
    "    \n",
    "print(\"GTIN(12,13): \"+ gtin_old)\n",
    "print(\"GTIN(14):      \"+gtin_new)"
   ]
  },
  {
   "cell_type": "markdown",
   "metadata": {},
   "source": [
    "## GS1 GTIN to EPC LGTIN"
   ]
  },
  {
   "cell_type": "code",
   "execution_count": 1,
   "metadata": {
    "collapsed": false
   },
   "outputs": [
    {
     "ename": "NameError",
     "evalue": "name 'itemRefandIndicator' is not defined",
     "output_type": "error",
     "traceback": [
      "\u001b[0;31m---------------------------------------------------------------------------\u001b[0m",
      "\u001b[0;31mNameError\u001b[0m                                 Traceback (most recent call last)",
      "\u001b[0;32m<ipython-input-1-a70d4a053ea5>\u001b[0m in \u001b[0;36m<module>\u001b[0;34m()\u001b[0m\n\u001b[1;32m      1\u001b[0m \u001b[0mgtin\u001b[0m \u001b[0;34m=\u001b[0m \u001b[0;34m\"00039000045209\"\u001b[0m\u001b[0;34m\u001b[0m\u001b[0m\n\u001b[1;32m      2\u001b[0m \u001b[0mcompany_prefix\u001b[0m \u001b[0;34m=\u001b[0m \u001b[0;34m\"0003900\"\u001b[0m\u001b[0;34m\u001b[0m\u001b[0m\n\u001b[0;32m----> 3\u001b[0;31m \u001b[0mitemRefIndicator\u001b[0m \u001b[0;34m=\u001b[0m \u001b[0mitemRefandIndicator\u001b[0m\u001b[0;34m(\u001b[0m\u001b[0mgtin\u001b[0m\u001b[0;34m)\u001b[0m\u001b[0;34m\u001b[0m\u001b[0m\n\u001b[0m\u001b[1;32m      4\u001b[0m \u001b[0mprint\u001b[0m\u001b[0;34m(\u001b[0m\u001b[0mepc_lgtin\u001b[0m\u001b[0;34m)\u001b[0m\u001b[0;34m\u001b[0m\u001b[0m\n\u001b[1;32m      5\u001b[0m \u001b[0;34m\u001b[0m\u001b[0m\n",
      "\u001b[0;31mNameError\u001b[0m: name 'itemRefandIndicator' is not defined"
     ]
    }
   ],
   "source": [
    "gtin = \"00039000045209\"\n",
    "company_prefix = \"0003900\"\n",
    "itemRefIndicator = itemRefandIndicator(gtin)\n",
    "print(epc_lgtin)\n",
    "\n",
    "def GTINtoLGTIN():\n",
    "    return \"%s.%s.%s\"%(company_prefix, itemRefIndicator,\"0\")\n",
    "\n",
    "assertEqual('foo'.upper(), \"urn:epc:id:sgtin:0039000.004520.0\") "
   ]
  },
  {
   "cell_type": "code",
   "execution_count": 55,
   "metadata": {
    "collapsed": false
   },
   "outputs": [
    {
     "name": "stdout",
     "output_type": "stream",
     "text": [
      "13\n",
      "12\n",
      "1\n",
      "9\n"
     ]
    },
    {
     "data": {
      "text/plain": [
       "'3'"
      ]
     },
     "execution_count": 55,
     "metadata": {},
     "output_type": "execute_result"
    }
   ],
   "source": [
    "def gs1CheckDigit(ident):\n",
    "    #check digit calculation\n",
    "    evens = total = 0\n",
    "    for i, c in enumerate(reversed(ident)):\n",
    "        evens += (i % 2) * int(c)\n",
    "        total += int(c)\n",
    "    return str((10 - ((total * 3 - evens * 2) % 10)) % 10)\n",
    "\n",
    "print(len(\"0040000000050\"))\n",
    "print(len(\"316629000000\"))\n",
    "print(gs1CheckDigit(\"316629000000\"))\n",
    "print(gs1CheckDigit(\"000390000452\"))\n",
    "gs1CheckDigit(\"0040000000050\")"
   ]
  },
  {
   "cell_type": "code",
   "execution_count": 3,
   "metadata": {
    "collapsed": true
   },
   "outputs": [
    {
     "name": "stderr",
     "output_type": "stream",
     "text": [
      ".\n",
      "----------------------------------------------------------------------\n",
      "Ran 1 test in 0.002s\n",
      "\n",
      "OK\n"
     ]
    },
    {
     "data": {
      "text/plain": [
       "<unittest.runner.TextTestResult run=1 errors=0 failures=0>"
      ]
     },
     "execution_count": 3,
     "metadata": {},
     "output_type": "execute_result"
    }
   ],
   "source": [
    "import unittest\n",
    "\n",
    "class DefaultGS1Tools(unittest.TestCase):\n",
    "    def test_CheckDigit(self):\n",
    "        self.assertEqual(gs1CheckDigit(\"316629000000\"), \"1\")\n",
    "\n",
    "\n",
    "suite = unittest.TestLoader().loadTestsFromModule(DefaultGS1Tools())\n",
    "unittest.TextTestRunner().run(suite)"
   ]
  },
  {
   "cell_type": "code",
   "execution_count": 49,
   "metadata": {
    "collapsed": false
   },
   "outputs": [
    {
     "name": "stdout",
     "output_type": "stream",
     "text": [
      "12\n"
     ]
    },
    {
     "data": {
      "text/plain": [
       "'0040000000051'"
      ]
     },
     "execution_count": 49,
     "metadata": {},
     "output_type": "execute_result"
    }
   ],
   "source": [
    "gtin=\"004000000005\"\n",
    "\"%s%s\"%(gtin,gs1CheckDigit(gtin))\n"
   ]
  },
  {
   "cell_type": "code",
   "execution_count": 42,
   "metadata": {
    "collapsed": false
   },
   "outputs": [
    {
     "data": {
      "text/plain": [
       "('0400000', '00005')"
      ]
     },
     "execution_count": 42,
     "metadata": {},
     "output_type": "execute_result"
    }
   ],
   "source": [
    "itemRefandIndicator(\"004000000005\")"
   ]
  },
  {
   "cell_type": "code",
   "execution_count": 37,
   "metadata": {
    "collapsed": false
   },
   "outputs": [
    {
     "name": "stdout",
     "output_type": "stream",
     "text": [
      "GTIN: 00900000730009\n",
      "Indicator: 0\n",
      "CompanyPrefix: 0900000\n",
      "Item: 73000\n",
      "ItemRefAndIndicator: 073000\n",
      "GTIN: 00900000990007\n",
      "Indicator: 0\n",
      "CompanyPrefix: 0900000\n",
      "Item: 99000\n",
      "ItemRefAndIndicator: 099000\n"
     ]
    },
    {
     "data": {
      "text/plain": [
       "'urn:epc:class:lgtin:0900000.099000.321'"
      ]
     },
     "execution_count": 37,
     "metadata": {},
     "output_type": "execute_result"
    }
   ],
   "source": [
    "def LGTIN(GTIN,lot=0, withEPC=True):\n",
    "    compprefix,itemref = itemRefandIndicator(GTIN)\n",
    "    sformat = \"urn:epc:class:lgtin:%s.%s.%s\"\n",
    "    if not withEPC:\n",
    "        sformat = \"%s.%s.%s\"\n",
    "    return sformat%(compprefix, itemref,lot)\n",
    "LGTIN(\"00900000730009\",\"123\")\n",
    "LGTIN(\"00900000990007\",\"321\")"
   ]
  },
  {
   "cell_type": "code",
   "execution_count": 32,
   "metadata": {
    "collapsed": false
   },
   "outputs": [
    {
     "data": {
      "text/plain": [
       "'urn:epc:id:sgln:0040000.00001.0'"
      ]
     },
     "execution_count": 32,
     "metadata": {},
     "output_type": "execute_result"
    }
   ],
   "source": [
    "def SGLN(GLN, lot=0, withEPC=True, compprefix=7):    \n",
    "    sformat = \"urn:epc:id:sgln:%s.%s.%s\"\n",
    "    if not withEPC:\n",
    "        sformat = \"%s.%s.%d\"\n",
    "    return sformat %(GLN[0:compprefix], GLN[compprefix:-1], lot)\n",
    "SGLN(\"0040000000013\")"
   ]
  },
  {
   "cell_type": "code",
   "execution_count": 33,
   "metadata": {
    "collapsed": false
   },
   "outputs": [
    {
     "data": {
      "text/plain": [
       "True"
      ]
     },
     "execution_count": 33,
     "metadata": {},
     "output_type": "execute_result"
    }
   ],
   "source": [
    "\"urn:epc:id:sgln:0050000.00040.0\"==SGLN(\"0050000000401\")"
   ]
  },
  {
   "cell_type": "code",
   "execution_count": 50,
   "metadata": {
    "collapsed": false
   },
   "outputs": [
    {
     "name": "stdout",
     "output_type": "stream",
     "text": [
      "urn:epc:id:sgln:0040000.00001.0\n",
      "urn:epc:id:sgln:0040000.00002.0\n",
      "urn:epc:id:sgln:0040000.00005.0\n",
      "urn:epc:class:lgtin:0900000.073000.0\n",
      "urn:epc:class:lgtin:0900000.099000.0\n"
     ]
    }
   ],
   "source": [
    "print(SGLN(\"0040000000013\"))\n",
    "print(SGLN(\"0040000000020\"))\n",
    "print(SGLN(\"0040000000051\"))\n",
    "\n",
    "print(LGTIN(\"00900000730009\"))\n",
    "print(LGTIN(\"00900000990007\"))"
   ]
  },
  {
   "cell_type": "code",
   "execution_count": 58,
   "metadata": {
    "collapsed": false
   },
   "outputs": [
    {
     "name": "stdout",
     "output_type": "stream",
     "text": [
      "urn:epc:id:sgln:0040000.00005.0\n",
      "urn:epc:id:sgln:0040000.00001.0\n",
      "urn:epc:id:sgln:0040000.00002.0\n",
      "urn:epc:class:lgtin:0900000.073000.0\n",
      "urn:epc:class:lgtin:0900000.099000.0\n"
     ]
    }
   ],
   "source": [
    "MasterData = [\"0040000000051\",\"0040000000013\",\"0040000000020\",\"00900000730009\",\"00900000990007\"]\n",
    "for val in MasterData:\n",
    "    cd = gs1CheckDigit(val[:-1])\n",
    "    if cd != val[-1]:\n",
    "         print(\"incorrect checkdigit\")\n",
    "\n",
    "    if len(val)==14: # LGTIN\n",
    "        print(LGTIN(val))\n",
    "    elif len(val)==13: # GLN\n",
    "        print(SGLN(val))\n",
    "    else:\n",
    "        print(len(val))"
   ]
  },
  {
   "cell_type": "code",
   "execution_count": null,
   "metadata": {
    "collapsed": true
   },
   "outputs": [],
   "source": []
  }
 ],
 "metadata": {
  "kernelspec": {
   "display_name": "Python 3",
   "language": "python",
   "name": "python3"
  },
  "language_info": {
   "codemirror_mode": {
    "name": "ipython",
    "version": 3
   },
   "file_extension": ".py",
   "mimetype": "text/x-python",
   "name": "python",
   "nbconvert_exporter": "python",
   "pygments_lexer": "ipython3",
   "version": "3.6.0"
  }
 },
 "nbformat": 4,
 "nbformat_minor": 0
}
