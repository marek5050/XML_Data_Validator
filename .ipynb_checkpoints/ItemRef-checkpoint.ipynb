{
 "cells": [
  {
   "cell_type": "code",
   "execution_count": 8,
   "metadata": {
    "collapsed": true
   },
   "outputs": [],
   "source": [
    "import unittest"
   ]
  },
  {
   "cell_type": "markdown",
   "metadata": {
    "collapsed": false
   },
   "source": [
    "##GTIN(14) to ItemRefAndIndicator\n",
    "[EPC Tag Standards pg 35](https://www.gs1.org/sites/default/files/docs/epc/TDS_1_9_Standard.pdf)"
   ]
  },
  {
   "cell_type": "code",
   "execution_count": 3,
   "metadata": {
    "collapsed": false
   },
   "outputs": [
    {
     "name": "stdout",
     "output_type": "stream",
     "text": [
      "GTIN: 00715756200023\n",
      "Indicator: 0\n",
      "CompanyPrefix: 0715756\n",
      "Item: 20002\n",
      "ItemRefAndIndicator: 020002\n"
     ]
    },
    {
     "data": {
      "text/plain": [
       "'020002'"
      ]
     },
     "execution_count": 3,
     "metadata": {},
     "output_type": "execute_result"
    }
   ],
   "source": [
    "gtin=\"00715756200023\"\n",
    "def itemRefandIndicator(gtin):\n",
    "    Indicator = gtin[0]\n",
    "    CompanyPrefix = gtin[1:8]\n",
    "    ItemRef = gtin[8:8+5]\n",
    "    print(\"GTIN: \"+ gtin)\n",
    "    print(\"Indicator: \"+Indicator)\n",
    "    print(\"CompanyPrefix: \" + CompanyPrefix)\n",
    "    print(\"Item: \" + ItemRef)\n",
    "    ItemRefAndIndicator = Indicator+ItemRef\n",
    "    print(\"ItemRefAndIndicator: \" + ItemRefAndIndicator)\n",
    "    return (ItemRefAndIndicator)\n",
    "\n",
    "itemRefandIndicator(gtin)"
   ]
  },
  {
   "cell_type": "markdown",
   "metadata": {},
   "source": [
    "##GTIN(12,13) to GTIN(14)\n",
    "[EPC Tag Standards pg 37](https://www.gs1.org/sites/default/files/docs/epc/TDS_1_9_Standard.pdf)  \n",
    "To find the EPC URI corresponding to the combination of a GTIN-12 or GTIN-13 and a serial number, first convert the GTIN-12 or GTIN-13 to a 14-digit number by adding two or one leading zero characters, respectively, as shown in [GS1GS14.0] Section 3.3.2.   "
   ]
  },
  {
   "cell_type": "code",
   "execution_count": 3,
   "metadata": {
    "collapsed": false
   },
   "outputs": [
    {
     "name": "stdout",
     "output_type": "stream",
     "text": [
      "GTIN(12,13): 715756200023\n",
      "GTIN(14):      00715756200023\n"
     ]
    }
   ],
   "source": [
    "gtin_old = \"715756200023\"\n",
    "gtin_new = \"\"\n",
    "if (len(gtin_old)==12):\n",
    "    gtin_new = \"00\"+gtin_old\n",
    "elif (len(gtin_old)==13):\n",
    "    gtin_new = \"0\" + gtin_old\n",
    "    \n",
    "print(\"GTIN(12,13): \"+ gtin_old)\n",
    "print(\"GTIN(14):      \"+gtin_new)"
   ]
  },
  {
   "cell_type": "markdown",
   "metadata": {},
   "source": [
    "## GS1 GTIN to EPC LGTIN"
   ]
  },
  {
   "cell_type": "code",
   "execution_count": 10,
   "metadata": {
    "collapsed": false
   },
   "outputs": [
    {
     "name": "stdout",
     "output_type": "stream",
     "text": [
      "GTIN: 00039000045209\n",
      "Indicator: 0\n",
      "CompanyPrefix: 0039000\n",
      "Item: 04520\n",
      "ItemRefAndIndicator: 004520\n",
      "0003900.004520.M0B0\n"
     ]
    },
    {
     "ename": "NameError",
     "evalue": "name 'assertEqual' is not defined",
     "output_type": "error",
     "traceback": [
      "\u001b[0;31m---------------------------------------------------------------------------\u001b[0m",
      "\u001b[0;31mNameError\u001b[0m                                 Traceback (most recent call last)",
      "\u001b[0;32m<ipython-input-10-a70d4a053ea5>\u001b[0m in \u001b[0;36m<module>\u001b[0;34m()\u001b[0m\n\u001b[1;32m      7\u001b[0m     \u001b[0;32mreturn\u001b[0m \u001b[0;34m\"%s.%s.%s\"\u001b[0m\u001b[0;34m%\u001b[0m\u001b[0;34m(\u001b[0m\u001b[0mcompany_prefix\u001b[0m\u001b[0;34m,\u001b[0m \u001b[0mitemRefIndicator\u001b[0m\u001b[0;34m,\u001b[0m\u001b[0;34m\"0\"\u001b[0m\u001b[0;34m)\u001b[0m\u001b[0;34m\u001b[0m\u001b[0m\n\u001b[1;32m      8\u001b[0m \u001b[0;34m\u001b[0m\u001b[0m\n\u001b[0;32m----> 9\u001b[0;31m \u001b[0massertEqual\u001b[0m\u001b[0;34m(\u001b[0m\u001b[0;34m'foo'\u001b[0m\u001b[0;34m.\u001b[0m\u001b[0mupper\u001b[0m\u001b[0;34m(\u001b[0m\u001b[0;34m)\u001b[0m\u001b[0;34m,\u001b[0m \u001b[0;34m\"urn:epc:id:sgtin:0039000.004520.0\"\u001b[0m\u001b[0;34m)\u001b[0m\u001b[0;34m\u001b[0m\u001b[0m\n\u001b[0m",
      "\u001b[0;31mNameError\u001b[0m: name 'assertEqual' is not defined"
     ]
    }
   ],
   "source": [
    "gtin = \"00039000045209\"\n",
    "company_prefix = \"0003900\"\n",
    "itemRefIndicator = itemRefandIndicator(gtin)\n",
    "print(epc_lgtin)\n",
    "\n",
    "def GTINtoLGTIN():\n",
    "    return \"%s.%s.%s\"%(company_prefix, itemRefIndicator,\"0\")\n",
    "\n",
    "assertEqual('foo'.upper(), \"urn:epc:id:sgtin:0039000.004520.0\") "
   ]
  },
  {
   "cell_type": "code",
   "execution_count": 19,
   "metadata": {
    "collapsed": false
   },
   "outputs": [
    {
     "name": "stdout",
     "output_type": "stream",
     "text": [
      "13\n"
     ]
    },
    {
     "data": {
      "text/plain": [
       "3"
      ]
     },
     "execution_count": 19,
     "metadata": {},
     "output_type": "execute_result"
    }
   ],
   "source": [
    "def calculateCheckDigit(gtin):\n",
    "        gtin = gtin[::-1]\n",
    "        evens = []\n",
    "        odds = []\n",
    "        \n",
    "        for character in gtin:\n",
    "            if int(character) % 2 == 0:\n",
    "                evens.append(int(character))\n",
    "            else:\n",
    "                odds.append(int(character))\n",
    "\n",
    "        sum_vars = sum(evens) + sum(odds) * 3;\n",
    "        if sum_vars % 10 != 0:\n",
    "            check = 10 - (sum_vars % 10);\n",
    "        else:\n",
    "             check= 0;\n",
    "                \n",
    "        return check\n",
    "\n",
    "print(len(\"0003900004520\"))\n",
    "calculateCheckDigit(\"0003900004520\")"
   ]
  },
  {
   "cell_type": "code",
   "execution_count": null,
   "metadata": {
    "collapsed": true
   },
   "outputs": [],
   "source": []
  }
 ],
 "metadata": {
  "kernelspec": {
   "display_name": "Python 3",
   "language": "python",
   "name": "python3"
  },
  "language_info": {
   "codemirror_mode": {
    "name": "ipython",
    "version": 3
   },
   "file_extension": ".py",
   "mimetype": "text/x-python",
   "name": "python",
   "nbconvert_exporter": "python",
   "pygments_lexer": "ipython3",
   "version": "3.6.0"
  }
 },
 "nbformat": 4,
 "nbformat_minor": 0
}
